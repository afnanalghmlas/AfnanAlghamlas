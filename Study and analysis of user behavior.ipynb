{
  "nbformat": 4,
  "nbformat_minor": 0,
  "metadata": {
    "colab": {
      "provenance": [],
      "authorship_tag": "ABX9TyM9yxbnI4V2OtLLCiZUOPAA",
      "include_colab_link": true
    },
    "kernelspec": {
      "name": "python3",
      "display_name": "Python 3"
    },
    "language_info": {
      "name": "python"
    },
    "gpuClass": "standard"
  },
  "cells": [
    {
      "cell_type": "markdown",
      "metadata": {
        "id": "view-in-github",
        "colab_type": "text"
      },
      "source": [
        "<a href=\"https://colab.research.google.com/github/afnanalghmlas/AfnanAlghamlas/blob/main/Study%20and%20analysis%20of%20user%20behavior.ipynb\" target=\"_parent\"><img src=\"https://colab.research.google.com/assets/colab-badge.svg\" alt=\"Open In Colab\"/></a>"
      ]
    },
    {
      "cell_type": "code",
      "execution_count": 4,
      "metadata": {
        "id": "Yt-BGihz9ljf",
        "colab": {
          "base_uri": "https://localhost:8080/"
        },
        "outputId": "8d2a7a29-6c3e-4eb7-b812-81eace5c90f0"
      },
      "outputs": [
        {
          "output_type": "stream",
          "name": "stdout",
          "text": [
            "Name: pandas\n",
            "Version: 1.3.5\n",
            "Summary: Powerful data structures for data analysis, time series, and statistics\n",
            "Home-page: https://pandas.pydata.org\n",
            "Author: The Pandas Development Team\n",
            "Author-email: pandas-dev@python.org\n",
            "License: BSD-3-Clause\n",
            "Location: /usr/local/lib/python3.7/dist-packages\n",
            "Requires: python-dateutil, numpy, pytz\n",
            "Required-by: xarray, vega-datasets, statsmodels, sklearn-pandas, seaborn, pymc, prophet, plotnine, pandas-profiling, pandas-gbq, pandas-datareader, mlxtend, mizani, holoviews, gspread-dataframe, google-colab, fix-yahoo-finance, fastai, db-dtypes, datascience, cufflinks, cmdstanpy, arviz, altair\n"
          ]
        }
      ],
      "source": [
        "pip show pandas"
      ]
    },
    {
      "cell_type": "code",
      "source": [
        "import os\n",
        "if 'COLAB_TPU_ADDR' not in os.environ:\n",
        "  print('Not connected to TPU')\n",
        "else:\n",
        "  print(\"Connected to TPU\")"
      ],
      "metadata": {
        "id": "6sEV5yp0Jelq",
        "colab": {
          "base_uri": "https://localhost:8080/"
        },
        "outputId": "ea2df0f0-ef77-4ca0-b030-ffe1e9f02be1"
      },
      "execution_count": 2,
      "outputs": [
        {
          "output_type": "stream",
          "name": "stdout",
          "text": [
            "Not connected to TPU\n"
          ]
        }
      ]
    },
    {
      "cell_type": "code",
      "source": [
        "import tensorflow as tf\n",
        "tf.test.gpu_device_name()"
      ],
      "metadata": {
        "colab": {
          "base_uri": "https://localhost:8080/",
          "height": 35
        },
        "id": "YldVapjtKele",
        "outputId": "03776b9b-dd4d-454e-e7d9-581a3edaf6a4"
      },
      "execution_count": 1,
      "outputs": [
        {
          "output_type": "execute_result",
          "data": {
            "text/plain": [
              "''"
            ],
            "application/vnd.google.colaboratory.intrinsic+json": {
              "type": "string"
            }
          },
          "metadata": {},
          "execution_count": 1
        }
      ]
    },
    {
      "cell_type": "markdown",
      "source": [
        "# New Section"
      ],
      "metadata": {
        "id": "Ntdz9rNpKaQl"
      }
    }
  ]
}